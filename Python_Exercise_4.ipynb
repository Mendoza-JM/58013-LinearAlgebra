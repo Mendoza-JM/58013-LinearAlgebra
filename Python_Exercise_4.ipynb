{
  "nbformat": 4,
  "nbformat_minor": 0,
  "metadata": {
    "colab": {
      "provenance": [],
      "authorship_tag": "ABX9TyMsQWVSGtZSxSDdNUbjG9S8",
      "include_colab_link": true
    },
    "kernelspec": {
      "name": "python3",
      "display_name": "Python 3"
    },
    "language_info": {
      "name": "python"
    }
  },
  "cells": [
    {
      "cell_type": "markdown",
      "metadata": {
        "id": "view-in-github",
        "colab_type": "text"
      },
      "source": [
        "<a href=\"https://colab.research.google.com/github/Mendoza-JM/58013-LinearAlgebra/blob/main/Python_Exercise_4.ipynb\" target=\"_parent\"><img src=\"https://colab.research.google.com/assets/colab-badge.svg\" alt=\"Open In Colab\"/></a>"
      ]
    },
    {
      "cell_type": "code",
      "execution_count": 3,
      "metadata": {
        "colab": {
          "base_uri": "https://localhost:8080/"
        },
        "id": "k-jhq0Tk1wkh",
        "outputId": "b5935b38-7b67-4aa8-c9ea-2dd108e2562a"
      },
      "outputs": [
        {
          "output_type": "stream",
          "name": "stdout",
          "text": [
            "[[-0.4]\n",
            " [ 4.3]\n",
            " [-0.6]] \n",
            "\n",
            "[-0.2  0.2  1. ] \n",
            "\n",
            "[-0.2  2.1 -1.5] \n",
            "\n"
          ]
        }
      ],
      "source": [
        "import numpy as np\n",
        "A = np.array([[-0.4],[4.3],[-0.6]])\n",
        "B = np.array([-0.2, 0.2, 1])\n",
        "C = np.array([-0.2, 2.1, -1.5])\n",
        "\n",
        "print(A,\"\\n\")\n",
        "print(B,\"\\n\")\n",
        "print(C,\"\\n\")"
      ]
    },
    {
      "cell_type": "code",
      "source": [
        "#Addition\n",
        "print(np.add(B,C))\n",
        "print(B+C)"
      ],
      "metadata": {
        "colab": {
          "base_uri": "https://localhost:8080/"
        },
        "id": "7ODecgwQheZh",
        "outputId": "dbdc21ac-4223-49da-de4a-ccaf5ef1def4"
      },
      "execution_count": 6,
      "outputs": [
        {
          "output_type": "stream",
          "name": "stdout",
          "text": [
            "[-0.4  2.3 -0.5]\n",
            "[-0.4  2.3 -0.5]\n"
          ]
        }
      ]
    },
    {
      "cell_type": "code",
      "source": [
        "#Subtraction\n",
        "print(np.subtract(C,B))\n",
        "print(C-B)"
      ],
      "metadata": {
        "colab": {
          "base_uri": "https://localhost:8080/"
        },
        "id": "kIGvU3dhitvX",
        "outputId": "5689db3a-3870-4140-f65f-e42a396f8918"
      },
      "execution_count": 7,
      "outputs": [
        {
          "output_type": "stream",
          "name": "stdout",
          "text": [
            "[ 0.   1.9 -2.5]\n",
            "[ 0.   1.9 -2.5]\n"
          ]
        }
      ]
    },
    {
      "cell_type": "code",
      "source": [
        "#Scalar Product\n",
        "print(A*2)"
      ],
      "metadata": {
        "colab": {
          "base_uri": "https://localhost:8080/"
        },
        "id": "dfbZDLYzjBnL",
        "outputId": "1db097b4-8541-40b7-c80e-c18a20e2a58f"
      },
      "execution_count": 8,
      "outputs": [
        {
          "output_type": "stream",
          "name": "stdout",
          "text": [
            "[[-0.8]\n",
            " [ 8.6]\n",
            " [-1.2]]\n"
          ]
        }
      ]
    },
    {
      "cell_type": "code",
      "source": [
        "#Dot Product\n",
        "print(np.dot(C,B),\"\\n\")\n",
        "print(np.dot(B,C),\"\\n\")"
      ],
      "metadata": {
        "colab": {
          "base_uri": "https://localhost:8080/"
        },
        "id": "3OhAMjO7kIrV",
        "outputId": "cf5cd42d-f43a-422c-a6cc-f944a6ffc5be"
      },
      "execution_count": 10,
      "outputs": [
        {
          "output_type": "stream",
          "name": "stdout",
          "text": [
            "-1.04 \n",
            "\n",
            "-1.04 \n",
            "\n"
          ]
        }
      ]
    },
    {
      "cell_type": "code",
      "source": [
        "#Multiply\n",
        "print(np.multiply(A,B),\"\\n\")\n",
        "print(np.multiply(A,C),\"\\n\")"
      ],
      "metadata": {
        "colab": {
          "base_uri": "https://localhost:8080/"
        },
        "id": "_RUFcNnVlT5P",
        "outputId": "66f5e75e-0347-4abb-ceb5-c8f090fdb600"
      },
      "execution_count": 13,
      "outputs": [
        {
          "output_type": "stream",
          "name": "stdout",
          "text": [
            "[[ 0.08 -0.08 -0.4 ]\n",
            " [-0.86  0.86  4.3 ]\n",
            " [ 0.12 -0.12 -0.6 ]] \n",
            "\n",
            "[[ 0.08 -0.84  0.6 ]\n",
            " [-0.86  9.03 -6.45]\n",
            " [ 0.12 -1.26  0.9 ]] \n",
            "\n"
          ]
        }
      ]
    }
  ]
}
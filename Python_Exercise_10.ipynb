{
  "nbformat": 4,
  "nbformat_minor": 0,
  "metadata": {
    "colab": {
      "provenance": [],
      "authorship_tag": "ABX9TyMxC14ze8gpHVA3TsSZAsjJ",
      "include_colab_link": true
    },
    "kernelspec": {
      "name": "python3",
      "display_name": "Python 3"
    },
    "language_info": {
      "name": "python"
    }
  },
  "cells": [
    {
      "cell_type": "markdown",
      "metadata": {
        "id": "view-in-github",
        "colab_type": "text"
      },
      "source": [
        "<a href=\"https://colab.research.google.com/github/Mendoza-JM/58013-LinearAlgebra/blob/main/Python_Exercise_10.ipynb\" target=\"_parent\"><img src=\"https://colab.research.google.com/assets/colab-badge.svg\" alt=\"Open In Colab\"/></a>"
      ]
    },
    {
      "cell_type": "code",
      "execution_count": null,
      "metadata": {
        "colab": {
          "base_uri": "https://localhost:8080/"
        },
        "id": "80W-4iO75P1S",
        "outputId": "3f0d8756-1dce-464b-a5b9-8c8575bc6322"
      },
      "outputs": [
        {
          "output_type": "stream",
          "name": "stdout",
          "text": [
            "[[ 1.  1.  1.]\n",
            " [ 3. -2. -1.]\n",
            " [-1.  4.  2.]]\n",
            "(3, 3)\n",
            "[[ 1.]\n",
            " [ 4.]\n",
            " [-3.]]\n",
            "(3, 1)\n"
          ]
        }
      ],
      "source": [
        "import numpy as np\n",
        "\n",
        "X = np.array([\n",
        "    [1,1,1],\n",
        "    [3,-2,-1],\n",
        "    [-1,4,2]\n",
        "], dtype=float)\n",
        "Y = np.array([\n",
        "    [1],\n",
        "    [4],\n",
        "    [-3]\n",
        "],dtype=float)\n",
        "print(X)\n",
        "print(X.shape)\n",
        "print(Y)\n",
        "print(Y.shape)\n"
      ]
    },
    {
      "cell_type": "code",
      "source": [
        "A = np.array([[30,10,120],[40,20,200],[50,40,360]])\n",
        "B = np.array([12500,18000,25700])\n",
        "print(A)\n",
        "print(B)\n",
        "\n",
        "solve = np.linalg.solve(A,B)\n",
        "print(solve)"
      ],
      "metadata": {
        "colab": {
          "base_uri": "https://localhost:8080/"
        },
        "id": "PEDljPhL_SLx",
        "outputId": "453665c4-619e-463f-c6d6-e39815af129e"
      },
      "execution_count": null,
      "outputs": [
        {
          "output_type": "stream",
          "name": "stdout",
          "text": [
            "[[ 30  10 120]\n",
            " [ 40  20 200]\n",
            " [ 50  40 360]]\n",
            "[12500 18000 25700]\n",
            "[330. 140.  10.]\n"
          ]
        }
      ]
    },
    {
      "cell_type": "code",
      "source": [
        "from sympy import symbols, Eq, solve\n",
        "\n",
        "# Define symbolic variables\n",
        "x1, x2, x3 = symbols('x1 x2 x3')\n",
        "\n",
        "# Define the equations\n",
        "eq1 = Eq(30*x1 + 10*x2 + 120*x3, 12500)\n",
        "eq2 = Eq(40*x1 + 20*x2 + 200*x3, 18000)\n",
        "eq3 = Eq(50*x1 + 40*x2 + 360*x3, 25700)\n",
        "\n",
        "# Solve the system of equations\n",
        "sol = solve((eq1, eq2, eq3), (x1, x2, x3))\n",
        "\n",
        "# Extract the solutions\n",
        "x1 = sol[x1]\n",
        "x2 = sol[x2]\n",
        "x3 = sol[x3]\n",
        "\n",
        "print(f\"Price per sack of flour: = {x1} Pesos\")\n",
        "print(f\"Price per pack of yeast: = {x2} Pesos\")\n",
        "print(f\"Price per egg = {x3} Pesos\")\n"
      ],
      "metadata": {
        "colab": {
          "base_uri": "https://localhost:8080/"
        },
        "id": "RlJruJX5HBJj",
        "outputId": "7680ece9-e92c-4f6f-9714-955403a6cdba"
      },
      "execution_count": 3,
      "outputs": [
        {
          "output_type": "stream",
          "name": "stdout",
          "text": [
            "Price per sack of flour: = 330 Pesos\n",
            "Price per pack of yeast: = 140 Pesos\n",
            "Price per egg = 10 Pesos\n"
          ]
        }
      ]
    }
  ]
}
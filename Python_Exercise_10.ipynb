{
  "nbformat": 4,
  "nbformat_minor": 0,
  "metadata": {
    "colab": {
      "provenance": [],
      "authorship_tag": "ABX9TyNaf5TQn6OSEHuGaagchWKJ",
      "include_colab_link": true
    },
    "kernelspec": {
      "name": "python3",
      "display_name": "Python 3"
    },
    "language_info": {
      "name": "python"
    }
  },
  "cells": [
    {
      "cell_type": "markdown",
      "metadata": {
        "id": "view-in-github",
        "colab_type": "text"
      },
      "source": [
        "<a href=\"https://colab.research.google.com/github/Mendoza-JM/58013-LinearAlgebra/blob/main/Python_Exercise_10.ipynb\" target=\"_parent\"><img src=\"https://colab.research.google.com/assets/colab-badge.svg\" alt=\"Open In Colab\"/></a>"
      ]
    },
    {
      "cell_type": "code",
      "execution_count": 1,
      "metadata": {
        "colab": {
          "base_uri": "https://localhost:8080/"
        },
        "id": "80W-4iO75P1S",
        "outputId": "3f0d8756-1dce-464b-a5b9-8c8575bc6322"
      },
      "outputs": [
        {
          "output_type": "stream",
          "name": "stdout",
          "text": [
            "[[ 1.  1.  1.]\n",
            " [ 3. -2. -1.]\n",
            " [-1.  4.  2.]]\n",
            "(3, 3)\n",
            "[[ 1.]\n",
            " [ 4.]\n",
            " [-3.]]\n",
            "(3, 1)\n"
          ]
        }
      ],
      "source": [
        "import numpy as np\n",
        "\n",
        "X = np.array([\n",
        "    [1,1,1],\n",
        "    [3,-2,-1],\n",
        "    [-1,4,2]\n",
        "], dtype=float)\n",
        "Y = np.array([\n",
        "    [1],\n",
        "    [4],\n",
        "    [-3]\n",
        "],dtype=float)\n",
        "print(X)\n",
        "print(X.shape)\n",
        "print(Y)\n",
        "print(Y.shape)\n"
      ]
    },
    {
      "cell_type": "code",
      "source": [
        "A = np.array([[30,10,120],[40,20,200],[50,40,360]])\n",
        "B = np.array([12500,18000,25700])\n",
        "print(A)\n",
        "print(B)\n",
        "\n",
        "solve = np.linalg.solve(A,B)\n",
        "print(solve)"
      ],
      "metadata": {
        "colab": {
          "base_uri": "https://localhost:8080/"
        },
        "id": "PEDljPhL_SLx",
        "outputId": "453665c4-619e-463f-c6d6-e39815af129e"
      },
      "execution_count": 5,
      "outputs": [
        {
          "output_type": "stream",
          "name": "stdout",
          "text": [
            "[[ 30  10 120]\n",
            " [ 40  20 200]\n",
            " [ 50  40 360]]\n",
            "[12500 18000 25700]\n",
            "[330. 140.  10.]\n"
          ]
        }
      ]
    },
    {
      "cell_type": "code",
      "source": [
        "from sympy import symbols, Eq, solve\n",
        "\n",
        "# Define symbolic variables\n",
        "x1, x2, x3 = symbols('x1 x2 x3')\n",
        "\n",
        "# Define the equations\n",
        "eq1 = Eq(3*x1 - 9*x3, 33)\n",
        "eq2 = Eq(7*x1 - 4*x2 - x3, -15)\n",
        "eq3 = Eq(4*x1 + 6*x2 + 5*x3, -6)\n",
        "\n",
        "# Solve the system of equations\n",
        "sol = solve((eq1, eq2, eq3), (x1, x2, x3))\n",
        "\n",
        "# Extract the solutions\n",
        "x1 = sol[x1]\n",
        "x2 = sol[x2]\n",
        "x3 = sol[x3]\n",
        "\n",
        "print(f\"x1 = {x1}\")\n",
        "print(f\"x2 = {x2}\")\n",
        "print(f\"x3 = {x3}\")\n"
      ],
      "metadata": {
        "colab": {
          "base_uri": "https://localhost:8080/"
        },
        "id": "RlJruJX5HBJj",
        "outputId": "e72e13e5-9eb7-42cb-c792-67035d8790b5"
      },
      "execution_count": 6,
      "outputs": [
        {
          "output_type": "stream",
          "name": "stdout",
          "text": [
            "x1 = -1\n",
            "x2 = 3\n",
            "x3 = -4\n"
          ]
        }
      ]
    },
    {
      "cell_type": "code",
      "source": [
        "# Given data for each month\n",
        "month1 = {\n",
        "    'flour_sacks': 30,\n",
        "    'yeast_packs': 10,\n",
        "    'eggs': 120,\n",
        "    'total_cost': 12500\n",
        "}\n",
        "\n",
        "month2 = {\n",
        "    'flour_sacks': 40,\n",
        "    'yeast_packs': 20,\n",
        "    'eggs': 200,\n",
        "    'total_cost': 18000\n",
        "}\n",
        "\n",
        "month3 = {\n",
        "    'flour_sacks': 50,\n",
        "    'yeast_packs': 40,\n",
        "    'eggs': 360,\n",
        "    'total_cost': 25700\n",
        "}\n",
        "\n",
        "# Calculate the prices per unit for each item\n",
        "price_per_sack = month1['total_cost'] / (month1['flour_sacks'] + month2['flour_sacks'] + month3['flour_sacks'])\n",
        "price_per_pack_of_yeast = month1['total_cost'] / (month1['yeast_packs'] + month2['yeast_packs'] + month3['yeast_packs'])\n",
        "price_per_egg = month1['total_cost'] / (month1['eggs'] + month2['eggs'] + month3['eggs'])\n",
        "\n",
        "# Display the results\n",
        "print(f\"Price per sack of flour: {price_per_sack:.2f} pesos\")\n",
        "print(f\"Price per pack of yeast: {price_per_pack_of_yeast:.2f} pesos\")\n",
        "print(f\"Price per egg: {price_per_egg:.2f} pesos\")\n"
      ],
      "metadata": {
        "colab": {
          "base_uri": "https://localhost:8080/"
        },
        "id": "cIOhrmsrEAyL",
        "outputId": "27735ce4-a817-4fef-ac63-fb13983c4aff"
      },
      "execution_count": 4,
      "outputs": [
        {
          "output_type": "stream",
          "name": "stdout",
          "text": [
            "Price per sack of flour: 104.17 pesos\n",
            "Price per pack of yeast: 178.57 pesos\n",
            "Price per egg: 18.38 pesos\n"
          ]
        }
      ]
    }
  ]
}
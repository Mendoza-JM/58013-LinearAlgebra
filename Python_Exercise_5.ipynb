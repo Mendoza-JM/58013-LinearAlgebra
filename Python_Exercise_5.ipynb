{
  "nbformat": 4,
  "nbformat_minor": 0,
  "metadata": {
    "colab": {
      "provenance": [],
      "authorship_tag": "ABX9TyPB7QwMV4x+QFpOMfEgfwwU",
      "include_colab_link": true
    },
    "kernelspec": {
      "name": "python3",
      "display_name": "Python 3"
    },
    "language_info": {
      "name": "python"
    }
  },
  "cells": [
    {
      "cell_type": "markdown",
      "metadata": {
        "id": "view-in-github",
        "colab_type": "text"
      },
      "source": [
        "<a href=\"https://colab.research.google.com/github/Mendoza-JM/58013-LinearAlgebra/blob/main/Python_Exercise_5.ipynb\" target=\"_parent\"><img src=\"https://colab.research.google.com/assets/colab-badge.svg\" alt=\"Open In Colab\"/></a>"
      ]
    },
    {
      "cell_type": "code",
      "execution_count": null,
      "metadata": {
        "colab": {
          "base_uri": "https://localhost:8080/"
        },
        "id": "e5hz8QQjWv5I",
        "outputId": "b1515d6d-413e-449c-ba09-eba49fb10969"
      },
      "outputs": [
        {
          "output_type": "execute_result",
          "data": {
            "text/plain": [
              "array([ 5, 25, 40, 45])"
            ]
          },
          "metadata": {},
          "execution_count": 1
        }
      ],
      "source": [
        "#Scalar\n",
        "import numpy as np\n",
        "A = np.array([1,5,8,9])\n",
        "S = 5*A\n",
        "S\n",
        "\n",
        "S = np.multiply(5,A)\n",
        "S"
      ]
    },
    {
      "cell_type": "code",
      "source": [
        "#Dot Product\n",
        "a = [5, 10, 2]\n",
        "b = [2, 4, 3]\n",
        "dotproduct = np.dot(a,b)\n",
        "print('Dot product is:', dotproduct)"
      ],
      "metadata": {
        "colab": {
          "base_uri": "https://localhost:8080/"
        },
        "id": "IYwkH8hkZISA",
        "outputId": "f4774a11-844a-46f3-c522-7651951d9929"
      },
      "execution_count": null,
      "outputs": [
        {
          "output_type": "stream",
          "name": "stdout",
          "text": [
            "Dot product is: 56\n"
          ]
        }
      ]
    },
    {
      "cell_type": "code",
      "source": [
        "#Cross Product\n",
        "p = [4, 2]\n",
        "q = [5, 6]\n",
        "product = np.cross(p,q)\n",
        "print(product)"
      ],
      "metadata": {
        "colab": {
          "base_uri": "https://localhost:8080/"
        },
        "id": "9oLF-OLsZIdh",
        "outputId": "6d114962-826a-470c-8c3e-7c3aa43615d6"
      },
      "execution_count": null,
      "outputs": [
        {
          "output_type": "stream",
          "name": "stdout",
          "text": [
            "14\n"
          ]
        }
      ]
    }
  ]
}
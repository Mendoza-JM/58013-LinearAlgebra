{
  "nbformat": 4,
  "nbformat_minor": 0,
  "metadata": {
    "colab": {
      "provenance": [],
      "authorship_tag": "ABX9TyMaQeq9eLkfezczcPB4QkuE",
      "include_colab_link": true
    },
    "kernelspec": {
      "name": "python3",
      "display_name": "Python 3"
    },
    "language_info": {
      "name": "python"
    }
  },
  "cells": [
    {
      "cell_type": "markdown",
      "metadata": {
        "id": "view-in-github",
        "colab_type": "text"
      },
      "source": [
        "<a href=\"https://colab.research.google.com/github/Mendoza-JM/58013-LinearAlgebra/blob/main/Python_Exercise_8.ipynb\" target=\"_parent\"><img src=\"https://colab.research.google.com/assets/colab-badge.svg\" alt=\"Open In Colab\"/></a>"
      ]
    },
    {
      "cell_type": "code",
      "execution_count": 1,
      "metadata": {
        "colab": {
          "base_uri": "https://localhost:8080/"
        },
        "id": "tcYlxW9dW7xy",
        "outputId": "ffb740a6-e7e3-40fe-fe9a-84beedb94171"
      },
      "outputs": [
        {
          "output_type": "stream",
          "name": "stdout",
          "text": [
            "[[1 2 3]\n",
            " [4 5 6]\n",
            " [7 8 9]]\n",
            "[[-7.  2.]\n",
            " [ 4. -1.]]\n"
          ]
        }
      ],
      "source": [
        "#Inverse\n",
        "\n",
        "import numpy as np\n",
        "\n",
        "##Python codes to declare a matrix\n",
        "import numpy as np\n",
        "A = np.array ([[1,2,3],[4,5,6],[7,8,9]])\n",
        "print(A)\n",
        "\n",
        "A=np.array([[1,2],[4,7]])\n",
        "B=(np.linalg.inv(A))\n",
        "print(B)"
      ]
    },
    {
      "cell_type": "code",
      "source": [
        "A = np.array([[1,2],[4,7]])\n",
        "invA = (np.linalg.inv(A))\n",
        "print(invA)"
      ],
      "metadata": {
        "colab": {
          "base_uri": "https://localhost:8080/"
        },
        "id": "scGbACYqek7r",
        "outputId": "cac32cfd-8327-4bc8-da40-4660c09abf5d"
      },
      "execution_count": 2,
      "outputs": [
        {
          "output_type": "stream",
          "name": "stdout",
          "text": [
            "[[-7.  2.]\n",
            " [ 4. -1.]]\n"
          ]
        }
      ]
    },
    {
      "cell_type": "code",
      "source": [
        "#Python Program to Transpose a 4x4 Matrix A=([[6,1,1,3],[4,-2,5,1],[2,8,7,6],[3,1,9,7]])\n",
        "A=np.array([[6,1,1,3],[4,-2,5,1],[2,8,7,6],[3,1,9,7]])\n",
        "print(A)\n",
        "B=(np.transpose(A))\n",
        "print(B)"
      ],
      "metadata": {
        "colab": {
          "base_uri": "https://localhost:8080/"
        },
        "id": "476z6uxAemzd",
        "outputId": "16bcee30-a9ed-42c9-96c1-9a827436525e"
      },
      "execution_count": 3,
      "outputs": [
        {
          "output_type": "stream",
          "name": "stdout",
          "text": [
            "[[ 6  1  1  3]\n",
            " [ 4 -2  5  1]\n",
            " [ 2  8  7  6]\n",
            " [ 3  1  9  7]]\n",
            "[[ 6  4  2  3]\n",
            " [ 1 -2  8  1]\n",
            " [ 1  5  7  9]\n",
            " [ 3  1  6  7]]\n"
          ]
        }
      ]
    }
  ]
}
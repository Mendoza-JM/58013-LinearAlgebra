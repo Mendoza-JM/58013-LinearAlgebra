{
  "nbformat": 4,
  "nbformat_minor": 0,
  "metadata": {
    "colab": {
      "provenance": [],
      "authorship_tag": "ABX9TyMk9zdgQOvH9cCLmxIM0WpR",
      "include_colab_link": true
    },
    "kernelspec": {
      "name": "python3",
      "display_name": "Python 3"
    },
    "language_info": {
      "name": "python"
    }
  },
  "cells": [
    {
      "cell_type": "markdown",
      "metadata": {
        "id": "view-in-github",
        "colab_type": "text"
      },
      "source": [
        "<a href=\"https://colab.research.google.com/github/Mendoza-JM/58013-LinearAlgebra/blob/main/Python_Exercise_9.ipynb\" target=\"_parent\"><img src=\"https://colab.research.google.com/assets/colab-badge.svg\" alt=\"Open In Colab\"/></a>"
      ]
    },
    {
      "cell_type": "code",
      "execution_count": null,
      "metadata": {
        "colab": {
          "base_uri": "https://localhost:8080/"
        },
        "id": "Rg1zU1Tt27kC",
        "outputId": "568e5b31-1cdf-4217-d2df-e3d71f00eb55"
      },
      "outputs": [
        {
          "output_type": "execute_result",
          "data": {
            "text/plain": [
              "3.0000000000000004"
            ]
          },
          "metadata": {},
          "execution_count": 3
        }
      ],
      "source": [
        "import numpy as np\n",
        "\n",
        "A = np.array([\n",
        "    [1,4],\n",
        "    [0,3]\n",
        "])\n",
        "np.linalg.det(A)"
      ]
    },
    {
      "cell_type": "code",
      "source": [
        "## Now other mathematics classes would require you to solve this by hand,\n",
        "## and that is great for practicing your memorization and coordination skills\n",
        "## but in this class we aim for simplicity and speed so we'll use programming\n",
        "## but it's completely fine if you want to try to solve this one by hand.\n",
        "B = np.array([\n",
        "    [1,3,5,6],\n",
        "    [0,3,1,3],\n",
        "    [3,1,8,2],\n",
        "    [5,2,6,8]\n",
        "])\n",
        "np.linalg.det(B)\n"
      ],
      "metadata": {
        "colab": {
          "base_uri": "https://localhost:8080/"
        },
        "id": "HqIq6WYT5JgJ",
        "outputId": "b81d7856-e442-493d-a9ae-4df0e7815087"
      },
      "execution_count": null,
      "outputs": [
        {
          "output_type": "execute_result",
          "data": {
            "text/plain": [
              "-235.0000000000002"
            ]
          },
          "metadata": {},
          "execution_count": 4
        }
      ]
    },
    {
      "cell_type": "code",
      "source": [
        "import numpy as np\n",
        "\n",
        "# Define matrices A and B\n",
        "A = np.array([[1, 2, 3], [4, 5, 6], [7, 8, 9]])\n",
        "B = np.array([[9, 8, 7], [6, 5, 4], [3, 2, 1]])\n",
        "C = np.array([[2, 3, 4], [5, 6, 7], [8, 9, 10]])\n",
        "print(A)\n",
        "print(B)\n",
        "print(C,\"\\n\")\n",
        "\n",
        "# Property 1: Associativite property\n",
        "print(\"Property 1: Associativite property\")\n",
        "result1 = np.dot(np.dot(A, B), C)\n",
        "result2 = np.dot(A, np.dot(B, C))\n",
        "print(result1)\n",
        "print(result2,\"\\n\")\n",
        "\n",
        "# Property 2: Distributive property\n",
        "print(\"Property 2: Distributive property\")\n",
        "result3 = np.dot(A, B + C)\n",
        "result4 = np.dot(A, B) + np.dot(A, C)\n",
        "print(result3)\n",
        "print(result4,\"\\n\")\n",
        "\n",
        "# Property 3: Multiplicative identity property\n",
        "print(\"Property 3: Multiplicative identity property\")\n",
        "identity_matrix = np.identity(3)\n",
        "result5 = np.dot(A, identity_matrix)\n",
        "result6 = np.dot(identity_matrix, A)\n",
        "print(result5)\n",
        "print(result6,\"\\n\")\n",
        "\n",
        "# Property 4: Dimension Property\n",
        "print(\"Property 4: Dimension Property\")\n",
        "k = 2\n",
        "result7 = np.dot(k * A, B)\n",
        "result8 = k * np.dot(A, B)\n",
        "print(result7)\n",
        "print(result8,\"\\n\")\n",
        "\n",
        "# Property 5: Commutative property\n",
        "print(\"Property 5: Commutative property\")\n",
        "result9 = np.dot(A, B)\n",
        "result10 = np.dot(B, A)\n",
        "print(result9)\n",
        "print(result10,\"\\n\")\n",
        "\n",
        "# Property 6: Zero Matrix\n",
        "print(\"Property 6: Zero Matrix\")\n",
        "zero_matrix = np.zeros((3, 3))\n",
        "result11 = np.dot(A, zero_matrix)\n",
        "result12 = np.dot(zero_matrix, A)\n",
        "print(result11)\n",
        "print(result12,\"\\n\")\n"
      ],
      "metadata": {
        "colab": {
          "base_uri": "https://localhost:8080/"
        },
        "id": "GTJ9P_tJ5Ms_",
        "outputId": "f2f6893c-bf70-4326-b7a3-4718c89bcf64"
      },
      "execution_count": null,
      "outputs": [
        {
          "output_type": "stream",
          "name": "stdout",
          "text": [
            "[[1 2 3]\n",
            " [4 5 6]\n",
            " [7 8 9]]\n",
            "[[9 8 7]\n",
            " [6 5 4]\n",
            " [3 2 1]]\n",
            "[[ 2  3  4]\n",
            " [ 5  6  7]\n",
            " [ 8  9 10]] \n",
            "\n",
            "Property 1: Associativite property\n",
            "[[ 324  396  468]\n",
            " [ 945 1152 1359]\n",
            " [1566 1908 2250]]\n",
            "[[ 324  396  468]\n",
            " [ 945 1152 1359]\n",
            " [1566 1908 2250]] \n",
            "\n",
            "Property 2: Distributive property\n",
            "[[ 66  66  66]\n",
            " [165 165 165]\n",
            " [264 264 264]]\n",
            "[[ 66  66  66]\n",
            " [165 165 165]\n",
            " [264 264 264]] \n",
            "\n",
            "Property 3: Multiplicative identity property\n",
            "[[1. 2. 3.]\n",
            " [4. 5. 6.]\n",
            " [7. 8. 9.]]\n",
            "[[1. 2. 3.]\n",
            " [4. 5. 6.]\n",
            " [7. 8. 9.]] \n",
            "\n",
            "Property 4: Dimension Property\n",
            "[[ 60  48  36]\n",
            " [168 138 108]\n",
            " [276 228 180]]\n",
            "[[ 60  48  36]\n",
            " [168 138 108]\n",
            " [276 228 180]] \n",
            "\n",
            "Property 5: Commutative property\n",
            "[[ 30  24  18]\n",
            " [ 84  69  54]\n",
            " [138 114  90]]\n",
            "[[ 90 114 138]\n",
            " [ 54  69  84]\n",
            " [ 18  24  30]] \n",
            "\n",
            "Property 6: Zero Matrix\n",
            "[[0. 0. 0.]\n",
            " [0. 0. 0.]\n",
            " [0. 0. 0.]]\n",
            "[[0. 0. 0.]\n",
            " [0. 0. 0.]\n",
            " [0. 0. 0.]] \n",
            "\n"
          ]
        }
      ]
    }
  ]
}
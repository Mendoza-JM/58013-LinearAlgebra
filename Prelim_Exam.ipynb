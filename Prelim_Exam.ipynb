{
  "nbformat": 4,
  "nbformat_minor": 0,
  "metadata": {
    "colab": {
      "provenance": [],
      "authorship_tag": "ABX9TyPFS/bzJP+KScnEohezXMpN",
      "include_colab_link": true
    },
    "kernelspec": {
      "name": "python3",
      "display_name": "Python 3"
    },
    "language_info": {
      "name": "python"
    }
  },
  "cells": [
    {
      "cell_type": "markdown",
      "metadata": {
        "id": "view-in-github",
        "colab_type": "text"
      },
      "source": [
        "<a href=\"https://colab.research.google.com/github/Mendoza-JM/58013-LinearAlgebra/blob/main/Prelim_Exam.ipynb\" target=\"_parent\"><img src=\"https://colab.research.google.com/assets/colab-badge.svg\" alt=\"Open In Colab\"/></a>"
      ]
    },
    {
      "cell_type": "code",
      "execution_count": 25,
      "metadata": {
        "colab": {
          "base_uri": "https://localhost:8080/"
        },
        "id": "vvwRHXhvs_NS",
        "outputId": "bd51c396-d615-41ac-8697-d810ed8b4248"
      },
      "outputs": [
        {
          "output_type": "stream",
          "name": "stdout",
          "text": [
            "[[  1   2   3   4   5   6   7   8   9  10]\n",
            " [  2   4   6   8  10  12  14  16  18  20]\n",
            " [  3   6   9  12  15  18  21  24  27  30]\n",
            " [  4   8  12  16  20  24  28  32  36  40]\n",
            " [  5  10  15  20  25  30  35  40  45  50]\n",
            " [  6  12  18  24  30  36  42  48  54  60]\n",
            " [  7  14  21  28  35  42  49  56  63  70]\n",
            " [  8  16  24  32  40  48  56  64  72  80]\n",
            " [  9  18  27  36  45  54  63  72  81  90]\n",
            " [ 10  20  30  40  50  60  70  80  90 100]]\n"
          ]
        }
      ],
      "source": [
        "#Question 1 Create a Multiplication Table/Chart of 1 to 10\n",
        "import numpy as np\n",
        "\n",
        "num = np.arange(1, 11)\n",
        "\n",
        "table = np.outer(num, num)\n",
        "\n",
        "print(table)\n"
      ]
    },
    {
      "cell_type": "code",
      "source": [
        "#Question 2  In relation to Question 1,\n",
        "#show a solution that doubles all the values of each element.\n",
        "\n",
        "double = table*2\n",
        "print(double)\n"
      ],
      "metadata": {
        "colab": {
          "base_uri": "https://localhost:8080/"
        },
        "id": "EQM43LhjvxCw",
        "outputId": "13c81e8c-2905-480c-b5b1-9b046f37a9fa"
      },
      "execution_count": 26,
      "outputs": [
        {
          "output_type": "stream",
          "name": "stdout",
          "text": [
            "[[  2   4   6   8  10  12  14  16  18  20]\n",
            " [  4   8  12  16  20  24  28  32  36  40]\n",
            " [  6  12  18  24  30  36  42  48  54  60]\n",
            " [  8  16  24  32  40  48  56  64  72  80]\n",
            " [ 10  20  30  40  50  60  70  80  90 100]\n",
            " [ 12  24  36  48  60  72  84  96 108 120]\n",
            " [ 14  28  42  56  70  84  98 112 126 140]\n",
            " [ 16  32  48  64  80  96 112 128 144 160]\n",
            " [ 18  36  54  72  90 108 126 144 162 180]\n",
            " [ 20  40  60  80 100 120 140 160 180 200]]\n"
          ]
        }
      ]
    },
    {
      "cell_type": "code",
      "source": [
        "#Question 3 Create as Square matrix that has a diagonal 1's\n",
        "X = np.eye(4,4)\n",
        "print(X)"
      ],
      "metadata": {
        "colab": {
          "base_uri": "https://localhost:8080/"
        },
        "id": "jQOgY6L3wIrv",
        "outputId": "24b0c5bb-9416-40c0-d457-d1078ba61bbd"
      },
      "execution_count": 8,
      "outputs": [
        {
          "output_type": "stream",
          "name": "stdout",
          "text": [
            "[[1. 0. 0. 0.]\n",
            " [0. 1. 0. 0.]\n",
            " [0. 0. 1. 0.]\n",
            " [0. 0. 0. 1.]]\n"
          ]
        }
      ]
    },
    {
      "cell_type": "code",
      "source": [
        "#Question 4 Create a matrix whose elements are\n",
        "matrix = np.array([[1, 2, 3, 4],\n",
        "                   [5, 6, 7, 8],\n",
        "                   [9, 10, 11, 12]])\n",
        "\n",
        "print(matrix)\n",
        "\n",
        "#size\n",
        "size = matrix.size\n",
        "#shape\n",
        "shape = matrix.shape\n",
        "#dimension\n",
        "dimension = matrix.ndim\n",
        "\n",
        "print(\"\\nSize of the Matrix is: \", size)\n",
        "print(\"Shape of the Matrix is: \", shape)\n",
        "print(\"Dimension of the Matrix: \", dimension)"
      ],
      "metadata": {
        "colab": {
          "base_uri": "https://localhost:8080/"
        },
        "id": "Ghq429wNwdBV",
        "outputId": "64ff332a-3f05-4330-f5fb-2a1acc6e41f2"
      },
      "execution_count": 11,
      "outputs": [
        {
          "output_type": "stream",
          "name": "stdout",
          "text": [
            "[[ 1  2  3  4]\n",
            " [ 5  6  7  8]\n",
            " [ 9 10 11 12]]\n",
            "\n",
            "Size of the Matrix is:  12\n",
            "Shape of the Matrix is:  (3, 4)\n",
            "Dimension of the Matrix:  2\n"
          ]
        }
      ]
    },
    {
      "cell_type": "code",
      "source": [
        "#Question 5 Create a result array by adding the following two NumPy arrays.\n",
        "#Next, modify the result array by calculating the square of each element.\n",
        "\n",
        "arrayOne = np.array([[5,6,9],[21,18,27]])\n",
        "arrayTwo = np.array([[15,33,24],[4,7,1]])\n",
        "print(\"arrayOne:\")\n",
        "print(arrayOne)\n",
        "print(\"\\narrayTwo:\")\n",
        "print(arrayTwo)\n",
        "\n",
        "print(\"\\nSum of arrayOne and arrayTwo: \")\n",
        "x = arrayOne + arrayTwo\n",
        "print(x)\n",
        "\n",
        "print(\"\\n Square of the Sum: \")\n",
        "print(x**2)"
      ],
      "metadata": {
        "colab": {
          "base_uri": "https://localhost:8080/"
        },
        "id": "-UC1v_k5yWHc",
        "outputId": "2f9b06d9-c04d-4646-daf6-1d38bb450b3c"
      },
      "execution_count": 27,
      "outputs": [
        {
          "output_type": "stream",
          "name": "stdout",
          "text": [
            "arrayOne:\n",
            "[[ 5  6  9]\n",
            " [21 18 27]]\n",
            "\n",
            "arrayTwo:\n",
            "[[15 33 24]\n",
            " [ 4  7  1]]\n",
            "\n",
            "Sum of arrayOne and arrayTwo: \n",
            "[[20 39 33]\n",
            " [25 25 28]]\n",
            "\n",
            " Square of the Sum: \n",
            "[[ 400 1521 1089]\n",
            " [ 625  625  784]]\n"
          ]
        }
      ]
    }
  ]
}
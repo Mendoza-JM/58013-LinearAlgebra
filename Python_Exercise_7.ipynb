{
  "nbformat": 4,
  "nbformat_minor": 0,
  "metadata": {
    "colab": {
      "provenance": [],
      "authorship_tag": "ABX9TyNdjMjvNXs2i4/D+cefajyQ",
      "include_colab_link": true
    },
    "kernelspec": {
      "name": "python3",
      "display_name": "Python 3"
    },
    "language_info": {
      "name": "python"
    }
  },
  "cells": [
    {
      "cell_type": "markdown",
      "metadata": {
        "id": "view-in-github",
        "colab_type": "text"
      },
      "source": [
        "<a href=\"https://colab.research.google.com/github/Mendoza-JM/58013-LinearAlgebra/blob/main/Python_Exercise_7.ipynb\" target=\"_parent\"><img src=\"https://colab.research.google.com/assets/colab-badge.svg\" alt=\"Open In Colab\"/></a>"
      ]
    },
    {
      "cell_type": "code",
      "execution_count": 1,
      "metadata": {
        "id": "rYd7nkYdW4A-"
      },
      "outputs": [],
      "source": [
        "## Since we'll keep on describing matrices. Let's make a function.\n",
        "import numpy as np\n",
        "\n",
        "def describe_mat(matrix):\n",
        "    print(f'Matrix:\\n{matrix}\\n\\nShape:\\t{matrix.shape}\\nRank:\\t{matrix.ndim}\\n')"
      ]
    },
    {
      "cell_type": "code",
      "source": [
        "## Declaring a 2 x 2 matrix\n",
        "A = np.array([\n",
        "    [1, 2],\n",
        "    [3, 1]\n",
        "])\n",
        "describe_mat(A)\n",
        "\n",
        "\n",
        "G = np.array([\n",
        "    [1,1],\n",
        "    [2,2]\n",
        "])\n",
        "describe_mat(G)"
      ],
      "metadata": {
        "colab": {
          "base_uri": "https://localhost:8080/"
        },
        "id": "s58ZJK3pdEAz",
        "outputId": "aead503b-73e5-48c2-fcec-18fdfc5c6d3a"
      },
      "execution_count": 2,
      "outputs": [
        {
          "output_type": "stream",
          "name": "stdout",
          "text": [
            "Matrix:\n",
            "[[1 2]\n",
            " [3 1]]\n",
            "\n",
            "Shape:\t(2, 2)\n",
            "Rank:\t2\n",
            "\n",
            "Matrix:\n",
            "[[1 1]\n",
            " [2 2]]\n",
            "\n",
            "Shape:\t(2, 2)\n",
            "Rank:\t2\n",
            "\n"
          ]
        }
      ]
    },
    {
      "cell_type": "code",
      "source": [
        "## Declaring a 3 x 2 matrix\n",
        "B = np.array([\n",
        "    [8, 2],\n",
        "    [5, 4],\n",
        "    [1, 1]\n",
        "])\n",
        "describe_mat(B)"
      ],
      "metadata": {
        "colab": {
          "base_uri": "https://localhost:8080/"
        },
        "id": "RWJHptcYdED5",
        "outputId": "8fbb57da-6aeb-40a9-bbe1-e66b67e10269"
      },
      "execution_count": 3,
      "outputs": [
        {
          "output_type": "stream",
          "name": "stdout",
          "text": [
            "Matrix:\n",
            "[[8 2]\n",
            " [5 4]\n",
            " [1 1]]\n",
            "\n",
            "Shape:\t(3, 2)\n",
            "Rank:\t2\n",
            "\n"
          ]
        }
      ]
    },
    {
      "cell_type": "code",
      "source": [
        "H = np.array([1,2,3,4,5])\n",
        "describe_mat(H)"
      ],
      "metadata": {
        "colab": {
          "base_uri": "https://localhost:8080/"
        },
        "id": "kvuKXHIRdNnG",
        "outputId": "b879f509-82d7-47b1-831d-fc3a6ea40103"
      },
      "execution_count": 4,
      "outputs": [
        {
          "output_type": "stream",
          "name": "stdout",
          "text": [
            "Matrix:\n",
            "[1 2 3 4 5]\n",
            "\n",
            "Shape:\t(5,)\n",
            "Rank:\t1\n",
            "\n"
          ]
        }
      ]
    }
  ]
}
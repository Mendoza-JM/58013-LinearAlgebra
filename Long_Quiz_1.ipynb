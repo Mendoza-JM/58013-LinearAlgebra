{
  "nbformat": 4,
  "nbformat_minor": 0,
  "metadata": {
    "colab": {
      "provenance": [],
      "authorship_tag": "ABX9TyOi6XcjpeJV2UAxOtGznEVw",
      "include_colab_link": true
    },
    "kernelspec": {
      "name": "python3",
      "display_name": "Python 3"
    },
    "language_info": {
      "name": "python"
    }
  },
  "cells": [
    {
      "cell_type": "markdown",
      "metadata": {
        "id": "view-in-github",
        "colab_type": "text"
      },
      "source": [
        "<a href=\"https://colab.research.google.com/github/Mendoza-JM/58013-LinearAlgebra/blob/main/Long_Quiz_1.ipynb\" target=\"_parent\"><img src=\"https://colab.research.google.com/assets/colab-badge.svg\" alt=\"Open In Colab\"/></a>"
      ]
    },
    {
      "cell_type": "code",
      "execution_count": 8,
      "metadata": {
        "colab": {
          "base_uri": "https://localhost:8080/"
        },
        "id": "Ooiq7g1Pr8Z-",
        "outputId": "7241b118-c0f3-40a0-bb0b-ecbabb8271c2"
      },
      "outputs": [
        {
          "output_type": "stream",
          "name": "stdout",
          "text": [
            "a) AB = \n",
            "[[22 28]\n",
            " [49 64]]\n",
            "\n",
            "b) D + D = \n",
            "[[2 4]\n",
            " [6 8]]\n",
            "\n",
            "c) 2C = \n",
            "[[ 2  4  6]\n",
            " [ 8 10 12]\n",
            " [14 16 18]]\n"
          ]
        }
      ],
      "source": [
        "#Problem 1\n",
        "import numpy as np\n",
        "A = np.array ([[1,2,3],[4,5,6]])\n",
        "B = np.array ([[1,2],[3,4],[5,6]])\n",
        "C = np.array ([[1,2,3],[4,5,6],[7,8,9]])\n",
        "D = np.array ([[1,2],[3,4]])\n",
        "\n",
        "print(\"a) AB = \")\n",
        "print(np.dot(A,B))\n",
        "\n",
        "print(\"\\nb) D + D = \")\n",
        "print(np.add(D,D))\n",
        "\n",
        "print(\"\\nc) 2C = \")\n",
        "print(2*C)"
      ]
    },
    {
      "cell_type": "code",
      "source": [
        "#Problem 2\n",
        "A = np.array ([2,7,4])\n",
        "B = np.array ([3,9,8])\n",
        "\n",
        "print(\"Cross product of A & B = \")\n",
        "print(np.cross(A,B))"
      ],
      "metadata": {
        "colab": {
          "base_uri": "https://localhost:8080/"
        },
        "id": "GhPW_VUXvU8z",
        "outputId": "3ba2702d-914c-42c8-806b-8b2d22dd401c"
      },
      "execution_count": 11,
      "outputs": [
        {
          "output_type": "stream",
          "name": "stdout",
          "text": [
            "Cross product of A & B = \n",
            "[20 -4 -3]\n"
          ]
        }
      ]
    }
  ]
}
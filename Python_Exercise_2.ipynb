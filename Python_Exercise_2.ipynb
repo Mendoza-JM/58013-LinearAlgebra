{
  "nbformat": 4,
  "nbformat_minor": 0,
  "metadata": {
    "colab": {
      "provenance": [],
      "authorship_tag": "ABX9TyO4gkXl4vrstHa0onlV1Ftl",
      "include_colab_link": true
    },
    "kernelspec": {
      "name": "python3",
      "display_name": "Python 3"
    },
    "language_info": {
      "name": "python"
    }
  },
  "cells": [
    {
      "cell_type": "markdown",
      "metadata": {
        "id": "view-in-github",
        "colab_type": "text"
      },
      "source": [
        "<a href=\"https://colab.research.google.com/github/Mendoza-JM/58013-LinearAlgebra/blob/main/Python_Exercise_2.ipynb\" target=\"_parent\"><img src=\"https://colab.research.google.com/assets/colab-badge.svg\" alt=\"Open In Colab\"/></a>"
      ]
    },
    {
      "cell_type": "code",
      "execution_count": 1,
      "metadata": {
        "colab": {
          "base_uri": "https://localhost:8080/"
        },
        "id": "nXWOdSTVZoXJ",
        "outputId": "221d3db6-f163-4101-8026-31b2c778d29f"
      },
      "outputs": [
        {
          "output_type": "execute_result",
          "data": {
            "text/plain": [
              "array(-0.5)"
            ]
          },
          "metadata": {},
          "execution_count": 1
        }
      ],
      "source": [
        "#Scalars\n",
        "import numpy as np\n",
        "\n",
        "x = np.array(-0.5)\n",
        "x"
      ]
    },
    {
      "cell_type": "code",
      "source": [
        "#Vectors\n",
        "A = np.array([4,3])\n",
        "B = np.array([2, -5])\n",
        "\n",
        "print(\"Vector A is\", A)\n",
        "print(\"Vector B is\", B)"
      ],
      "metadata": {
        "colab": {
          "base_uri": "https://localhost:8080/"
        },
        "id": "PsRi_p-kaJHI",
        "outputId": "728331a7-4d58-43b6-8b72-2cd7b6c1adc7"
      },
      "execution_count": 2,
      "outputs": [
        {
          "output_type": "stream",
          "name": "stdout",
          "text": [
            "Vector A is [4 3]\n",
            "Vector B is [ 2 -5]\n"
          ]
        }
      ]
    },
    {
      "cell_type": "code",
      "source": [
        "import numpy as np\n",
        "\n",
        "# Describing shapes\n",
        "\n",
        "# Checking shapes\n",
        "# Shapes tell us how many rows and columns are there\n",
        "ball1 = np.array([1, 2, 3])\n",
        "ball2 = np.array([0, 1, -1])\n",
        "pool = np.array([[ball1, ball2]])\n",
        "\n",
        "print(\"Shape of 'pool':\", pool.shape)\n",
        "\n",
        "U = np.array([[1, 2], [2, 3]])\n",
        "print(\"Shape of 'U':\", U.shape)\n",
        "\n",
        "# Checking size\n",
        "# Array/Vector sizes tell us the total number of elements in the vector\n",
        "print(\"Size of 'U':\", U.size)\n",
        "\n",
        "# Checking dimensions\n",
        "# The dimensions or rank of a vector tell us how many dimensions are there for the vector\n",
        "print(\"Dimensions of 'A':\", A.ndim)\n",
        "print(\"Dimensions of 'pool':\", pool.ndim)\n"
      ],
      "metadata": {
        "colab": {
          "base_uri": "https://localhost:8080/"
        },
        "id": "jl4Ctt2Pa3GD",
        "outputId": "85a545ab-06bc-4f59-d09b-a3488ca42ead"
      },
      "execution_count": 9,
      "outputs": [
        {
          "output_type": "stream",
          "name": "stdout",
          "text": [
            "Shape of 'pool': (1, 2, 3)\n",
            "Shape of 'U': (2, 2)\n",
            "Size of 'U': 4\n",
            "Dimensions of 'A': 1\n",
            "Dimensions of 'pool': 3\n"
          ]
        }
      ]
    }
  ]
}